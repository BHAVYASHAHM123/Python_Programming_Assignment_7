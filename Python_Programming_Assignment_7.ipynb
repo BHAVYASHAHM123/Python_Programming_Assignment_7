{
  "nbformat": 4,
  "nbformat_minor": 0,
  "metadata": {
    "colab": {
      "name": "Python_Programming_Assignment_7.ipynb",
      "provenance": []
    },
    "kernelspec": {
      "name": "python3",
      "display_name": "Python 3"
    },
    "language_info": {
      "name": "python"
    }
  },
  "cells": [
    {
      "cell_type": "markdown",
      "source": [
        "Q1) Write a Python Program to find sum of array?"
      ],
      "metadata": {
        "id": "yULhfngp5-GH"
      }
    },
    {
      "cell_type": "code",
      "execution_count": 2,
      "metadata": {
        "colab": {
          "base_uri": "https://localhost:8080/"
        },
        "id": "WVkxuWJ_59Ui",
        "outputId": "7f76ef67-66d4-47f3-9dc3-d3826933bfee"
      },
      "outputs": [
        {
          "output_type": "stream",
          "name": "stdout",
          "text": [
            "Sum of the array is  34\n"
          ]
        }
      ],
      "source": [
        "def _sum(arr):\n",
        "\tsum=0\n",
        "\n",
        "\tfor i in arr:\n",
        "\t\tsum = sum + i\n",
        "\t\t\n",
        "\treturn(sum)\n",
        "\n",
        "arr=[]\n",
        "arr = [12, 3, 4, 15]\n",
        "\n",
        "n = len(arr)\n",
        "\n",
        "ans = _sum(arr)\n",
        "\n",
        "print ('Sum of the array is ', ans)\n",
        "\n"
      ]
    },
    {
      "cell_type": "markdown",
      "source": [
        "Q2) Write a Python Program to find largest element in an array?"
      ],
      "metadata": {
        "id": "bU6PAJU_6XnV"
      }
    },
    {
      "cell_type": "code",
      "source": [
        "def largest(arr,n):\n",
        "\tmax = arr[0]\n",
        "\n",
        "\tfor i in range(1, n):\n",
        "\t\tif arr[i] > max:\n",
        "\t\t\tmax = arr[i]\n",
        "\treturn max\n",
        "\n",
        "# Driver Code\n",
        "arr = [10, 200, 50, 90, 8080]\n",
        "n = len(arr)\n",
        "Ans = largest(arr,n)\n",
        "print (\"Largest in given array is\",Ans)\n"
      ],
      "metadata": {
        "colab": {
          "base_uri": "https://localhost:8080/"
        },
        "id": "LGlKADbQ6EKn",
        "outputId": "a23e4bb6-5108-46cf-df43-fc4bf7cd2eda"
      },
      "execution_count": 4,
      "outputs": [
        {
          "output_type": "stream",
          "name": "stdout",
          "text": [
            "Largest in given array is 8080\n"
          ]
        }
      ]
    },
    {
      "cell_type": "markdown",
      "source": [
        "Q3) Write a Python Program for array rotation?"
      ],
      "metadata": {
        "id": "-fFNRGVl69m_"
      }
    },
    {
      "cell_type": "code",
      "source": [
        "def rotateArray(arr, n, d):\n",
        "\ttemp = []\n",
        "\ti = 0\n",
        "\twhile (i < d):\n",
        "\t\ttemp.append(arr[i])\n",
        "\t\ti = i + 1\n",
        "\ti = 0\n",
        "\twhile (d < n):\n",
        "\t\tarr[i] = arr[d]\n",
        "\t\ti = i + 1\n",
        "\t\td = d + 1\n",
        "\tarr[:] = arr[: i] + temp\n",
        "\treturn arr\n",
        "\n",
        "arr = [1, 2, 3, 4, 5, 6, 7]\n",
        "print(\"Array after left rotation is: \", end=' ')\n",
        "print(rotateArray(arr, len(arr), 2))\n",
        "\n"
      ],
      "metadata": {
        "colab": {
          "base_uri": "https://localhost:8080/"
        },
        "id": "CZiwPyBZ6lcP",
        "outputId": "aad296a6-5de2-4ecc-f9f1-c7a1ed87149d"
      },
      "execution_count": 5,
      "outputs": [
        {
          "output_type": "stream",
          "name": "stdout",
          "text": [
            "Array after left rotation is:  [3, 4, 5, 6, 7, 1, 2]\n"
          ]
        }
      ]
    },
    {
      "cell_type": "markdown",
      "source": [
        "Q4) Write a Python Program to Split the array and add the first part to the end?"
      ],
      "metadata": {
        "id": "2T2fTshL7VII"
      }
    },
    {
      "cell_type": "code",
      "source": [
        "def splitArr(arr, n, k):\n",
        "\tfor i in range(0, k):\n",
        "\t\tx = arr[0]\n",
        "\t\tfor j in range(0, n-1):\n",
        "\t\t\tarr[j] = arr[j + 1]\n",
        "\t\t\n",
        "\t\tarr[n-1] = x\n",
        "\t\t\n",
        "arr = [12, 10, 5, 6, 52, 36]\n",
        "n = len(arr)\n",
        "position = 2\n",
        "\n",
        "splitArr(arr, n, position)\n",
        "\n",
        "for i in range(0, n):\n",
        "\tprint(arr[i], end = ' ')\n",
        "\n"
      ],
      "metadata": {
        "colab": {
          "base_uri": "https://localhost:8080/"
        },
        "id": "18F5bSw47O9a",
        "outputId": "315de0ce-fddb-49c5-a703-fd9f5239a9e5"
      },
      "execution_count": 7,
      "outputs": [
        {
          "output_type": "stream",
          "name": "stdout",
          "text": [
            "5 6 52 36 12 10 "
          ]
        }
      ]
    },
    {
      "cell_type": "markdown",
      "source": [
        "Q5) Write a Python Program to check if given array is Monotonic?"
      ],
      "metadata": {
        "id": "6JlBVcJ87ill"
      }
    },
    {
      "cell_type": "code",
      "source": [
        "def ismonotone(a):\n",
        "    n=len(a)\n",
        "    if n==1:\n",
        "        return True\n",
        "    else:\n",
        "        if all(a[i]>=a[i+1] for i in range(0,n-1) or a[i]<=a[i+1] for i in range(0,n-1)):\n",
        "            return True\n",
        "        else:\n",
        "            return False\n",
        "\n",
        "A = [6, 5, 4, 2]\n",
        "print(ismonotone(A))\n",
        "b = [6, 2, 4, 2]\n",
        "print(ismonotone(b))\n",
        "c=[4,3,2]\n",
        "print(ismonotone(c))\n",
        "d=[1]\n",
        "print(ismonotone(d))\n"
      ],
      "metadata": {
        "colab": {
          "base_uri": "https://localhost:8080/"
        },
        "id": "bPdy1nxv7c-k",
        "outputId": "454e8ff5-54c4-4eb9-8552-db32a98cc1fd"
      },
      "execution_count": 8,
      "outputs": [
        {
          "output_type": "stream",
          "name": "stdout",
          "text": [
            "True\n",
            "False\n",
            "True\n",
            "True\n"
          ]
        }
      ]
    },
    {
      "cell_type": "code",
      "source": [
        ""
      ],
      "metadata": {
        "id": "N0PniJu-7tMO"
      },
      "execution_count": null,
      "outputs": []
    }
  ]
}